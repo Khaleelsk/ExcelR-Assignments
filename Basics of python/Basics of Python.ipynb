{
 "cells": [
  {
   "cell_type": "markdown",
   "id": "a659f9c3-be4d-4a17-8fde-923153e3200d",
   "metadata": {},
   "source": [
    "# Coding Exercises"
   ]
  },
  {
   "cell_type": "markdown",
   "id": "54d517d8-65c8-4d37-a01e-9f7c316ed158",
   "metadata": {},
   "source": [
    "## Exercise-1    Prime Numbers\n",
    "### Write a Python program that checks whether a given number is prime or not. A prime number is a natural number greater than 1 that has no positive divisors other than 1 and itself."
   ]
  },
  {
   "cell_type": "code",
   "execution_count": 41,
   "id": "6b984a12-d850-406f-a70a-d13ff1408bb9",
   "metadata": {},
   "outputs": [
    {
     "name": "stdin",
     "output_type": "stream",
     "text": [
      "Enter a Number: 5\n"
     ]
    },
    {
     "name": "stdout",
     "output_type": "stream",
     "text": [
      "True\n"
     ]
    }
   ],
   "source": [
    "# Program to Find Prime Number\n",
    "import math\n",
    "def is_prime(n): # using is_prime function to find the prime number\n",
    "    if n < 2:\n",
    "        return False\n",
    "    i = 2\n",
    "    while i*i <= n:\n",
    "        if n % i == 0:\n",
    "            return False\n",
    "        i += 1\n",
    "    return True\n",
    "n=int(input(\"Enter a Number:\"))\n",
    "print(is_prime(n))"
   ]
  },
  {
   "cell_type": "markdown",
   "id": "60d2496e",
   "metadata": {},
   "source": [
    "## Exercise-2    Product of Random Numbers\n",
    "### Develop a Python program that generates two random numbers and asks the user to enter the product of these numbers. The program should then check if the user's answer is correct and display an appropriate message."
   ]
  },
  {
   "cell_type": "code",
   "execution_count": 43,
   "id": "3db93743",
   "metadata": {},
   "outputs": [
    {
     "name": "stdin",
     "output_type": "stream",
     "text": [
      "Enter Your Answer: 25\n"
     ]
    },
    {
     "name": "stdout",
     "output_type": "stream",
     "text": [
      "Better Luck next Time ! Try again\n"
     ]
    }
   ],
   "source": [
    "# Program to Product of Random Numbers\n",
    "import random\n",
    "def pro_of_rand_nums(n):\n",
    "    pdt=1\n",
    "    for _ in range(n):\n",
    "        num = random.randint(1,20) # random.randint(start,end) used to generate the random numbers\n",
    "        #print(f\"Random number: {num}\")\n",
    "        pdt*= num\n",
    "    return pdt\n",
    "# Product of five Random Numbers Between 1 to 20 \n",
    "n=2\n",
    "ans=pro_of_rand_nums(n)\n",
    "ans2=int(input(\"Enter Your Answer:\"))\n",
    "if ans==ans2:\n",
    "    print(\"You are Correct!\")\n",
    "else:\n",
    "    print(\"Better Luck next Time ! Try again\")\n",
    "\n"
   ]
  },
  {
   "cell_type": "markdown",
   "id": "8ca0c8d4",
   "metadata": {},
   "source": [
    "## Exercise-3    Squares of Even/Odd Numbers\n",
    "### Create a Python script that prints the squares of all even or odd numbers within the range of 100 to 200. Choose either even or odd numbers and document your choice in the code."
   ]
  },
  {
   "cell_type": "code",
   "execution_count": 45,
   "id": "1930d2de",
   "metadata": {},
   "outputs": [
    {
     "name": "stdout",
     "output_type": "stream",
     "text": [
      "Enter only even or odd\n"
     ]
    },
    {
     "name": "stdin",
     "output_type": "stream",
     "text": [
      "Enter Your Choice : even\n"
     ]
    },
    {
     "name": "stdout",
     "output_type": "stream",
     "text": [
      "10000\n",
      "10404\n",
      "10816\n",
      "11236\n",
      "11664\n",
      "12100\n",
      "12544\n",
      "12996\n",
      "13456\n",
      "13924\n",
      "14400\n",
      "14884\n",
      "15376\n",
      "15876\n",
      "16384\n",
      "16900\n",
      "17424\n",
      "17956\n",
      "18496\n",
      "19044\n",
      "19600\n",
      "20164\n",
      "20736\n",
      "21316\n",
      "21904\n",
      "22500\n",
      "23104\n",
      "23716\n",
      "24336\n",
      "24964\n",
      "25600\n",
      "26244\n",
      "26896\n",
      "27556\n",
      "28224\n",
      "28900\n",
      "29584\n",
      "30276\n",
      "30976\n",
      "31684\n",
      "32400\n",
      "33124\n",
      "33856\n",
      "34596\n",
      "35344\n",
      "36100\n",
      "36864\n",
      "37636\n",
      "38416\n",
      "39204\n",
      "40000\n"
     ]
    }
   ],
   "source": [
    "# Program to Squares of Even/Odd Numbers\n",
    "print(\"Enter only even or odd\")\n",
    "ch=input(\"Enter Your Choice :\")\n",
    "\n",
    "if(ch==\"even\"):\n",
    "    for num in range(100,201):\n",
    "        if num%2==0:  # Check if the number is even\n",
    "            print(num**2)\n",
    "else:\n",
    "    for num in range(100,201):\n",
    "        if num%2!=0:  # Check if the number is even\n",
    "            print(num**2)"
   ]
  },
  {
   "cell_type": "markdown",
   "id": "2bb60e7f-b010-4cd4-ace6-9d9330f81bd0",
   "metadata": {},
   "source": [
    "## Exercise 4 : Word Counter\n",
    "### write a program to count the number of words in a given text."
   ]
  },
  {
   "cell_type": "code",
   "execution_count": 47,
   "id": "71e122b5-9f86-497b-89f0-3140d94b1fe8",
   "metadata": {},
   "outputs": [
    {
     "name": "stdin",
     "output_type": "stream",
     "text": [
      "Enter a string: Hello Khaleel hello khaleel shaik Shaik\n"
     ]
    },
    {
     "name": "stdout",
     "output_type": "stream",
     "text": [
      "Count of Each Word:\n",
      "hello: 2\n",
      "khaleel: 2\n",
      "shaik: 2\n"
     ]
    }
   ],
   "source": [
    "from collections import Counter # Importing Counter class from Collections Library\n",
    "def word_counter(string):       # Function for word counter\n",
    "    str=string.split()          # Splitting the string\n",
    "    count=Counter(str)          # Using Counter class to find word counter\n",
    "    return count                # Return Count of Each Word\n",
    "\n",
    "string=input(\"Enter a string:\")   # input\n",
    "string=string.lower()             # convert the string into lower case\n",
    "word_count=word_counter(string)   # calling function\n",
    "print(\"Count of Each Word:\")\n",
    "for word,count in word_count.items():\n",
    "    print(f\"{word}: {count}\")"
   ]
  },
  {
   "cell_type": "markdown",
   "id": "c54139e6-afe4-42de-9b27-6c766bfd5bb2",
   "metadata": {},
   "source": [
    "## Exercise 5: Check for Palindrome\n",
    "### Write a Python function called is_palindrome that takes a string as input and returns True if the string is a palindrome, and False otherwise. A palindrome is a word, phrase, number, or other sequence of characters that reads the same forward and backward, ignoring spaces, punctuation, and capitalization."
   ]
  },
  {
   "cell_type": "code",
   "execution_count": 56,
   "id": "283ecbe0-53be-484c-9ccc-707d6997235f",
   "metadata": {},
   "outputs": [
    {
     "name": "stdin",
     "output_type": "stream",
     "text": [
      "Enter a Sentence: racecar\n"
     ]
    },
    {
     "name": "stdout",
     "output_type": "stream",
     "text": [
      "racecar is a Palindrome\n"
     ]
    }
   ],
   "source": [
    "import string            # import string class to perform removal of spaces and punctuation marks using every character.\n",
    "ch=[]                    # Empty list to add each character after removal of  spaces and punctuation marks of given sentence\n",
    "def is_palindrome(str):  # Function to Check the given sentence is palindrome or not.\n",
    "    str=str.lower()      # Converting to lower case.\n",
    "    for char in str:     # using for loop to remove spaces and puntuation marks\n",
    "        if char.isalnum():     # checking that each character is alpha numeric or not.\n",
    "            ch.append(char)\n",
    "    result=''.join(ch)   # joining each character into list.\n",
    "    return result[::-1]  # Returning the reverse of final result.\n",
    "str=input(\"Enter a Sentence:\")  # Input string\n",
    "if(str==is_palindrome(str)):    # Checking whether the input and final result are same or not\n",
    "    print(f\"{str} is a Palindrome\")\n",
    "else:\n",
    "    print(f\"{str} is Not a Plaindrome\")"
   ]
  },
  {
   "cell_type": "code",
   "execution_count": null,
   "id": "66256888-e018-455c-8275-90123eed8890",
   "metadata": {},
   "outputs": [],
   "source": []
  }
 ],
 "metadata": {
  "kernelspec": {
   "display_name": "Python 3 (ipykernel)",
   "language": "python",
   "name": "python3"
  },
  "language_info": {
   "codemirror_mode": {
    "name": "ipython",
    "version": 3
   },
   "file_extension": ".py",
   "mimetype": "text/x-python",
   "name": "python",
   "nbconvert_exporter": "python",
   "pygments_lexer": "ipython3",
   "version": "3.12.4"
  }
 },
 "nbformat": 4,
 "nbformat_minor": 5
}
