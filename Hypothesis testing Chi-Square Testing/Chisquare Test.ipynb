{
 "cells": [
  {
   "cell_type": "markdown",
   "id": "4a4834e1-0378-40a0-bf97-c4d38140c99f",
   "metadata": {},
   "source": [
    "# ChiSquare Test\n",
    "## Association between Device Type and Customer Satisfaction"
   ]
  },
  {
   "cell_type": "markdown",
   "id": "2ed6fdb3-3b69-4e74-989e-7b45a60e4fde",
   "metadata": {},
   "source": [
    "### Background\n",
    "Mizzare Corporation has collected data on customer satisfaction levels for two types of smart home devices: Smart Thermostats and Smart Lights. They want to determine if there's a significant association between the type of device purchased and the customer's satisfaction level."
   ]
  },
  {
   "cell_type": "markdown",
   "id": "82ccf026-e472-452e-8834-954b3aa7f709",
   "metadata": {},
   "source": [
    "### Given Data\n",
    "The data is summarized in a contingency table showing the counts of customers in each satisfaction level for both types of devices:"
   ]
  },
  {
   "attachments": {
    "889e178d-513f-4d95-aaaa-5c16fc456f9e.png": {
     "image/png": "[encoded data removed]"
    }
   },
   "cell_type": "markdown",
   "id": "8bd6d583-08ee-4317-9e6a-0b42bf98d64b",
   "metadata": {},
   "source": [
    "![image.png](attachment:889e178d-513f-4d95-aaaa-5c16fc456f9e.png)"
   ]
  },
  {
   "cell_type": "markdown",
   "id": "e6509ade-2bcf-468f-a69d-0ecb4d5a077b",
   "metadata": {},
   "source": [
    "## Objective\n",
    "To use the Chi-Square test for independence to determine if there's a significant association between the type of smart home device purchased (Smart Thermostats vs. Smart Lights) and the customer satisfaction level."
   ]
  },
  {
   "cell_type": "markdown",
   "id": "4ec7908b-f344-4e1f-b13b-0c5d59097159",
   "metadata": {},
   "source": [
    "## Assignment Tasks\n",
    "### Task-1 : State the Hypothesis"
   ]
  },
  {
   "cell_type": "markdown",
   "id": "57055787-e8a9-4006-979d-3136ce20bc08",
   "metadata": {},
   "source": [
    "#### Null Hypothesis(H0): \n",
    "There is no association between the device type and the customer satisfaction level.\n",
    "\n",
    "#### Alternative Hypothesis(H1): \n",
    "There is an association between the device type and the customer satisfaction level."
   ]
  },
  {
   "cell_type": "code",
   "execution_count": 106,
   "id": "19ec14a2-4123-4f43-b71d-21f5f2f6f783",
   "metadata": {},
   "outputs": [],
   "source": [
    "import numpy as np\n",
    "from scipy.stats import chi2  # importing chi2 class from scipy library"
   ]
  },
  {
   "cell_type": "code",
   "execution_count": 107,
   "id": "2fd31bdc-81a4-4a07-a2b1-8243e4fb0097",
   "metadata": {},
   "outputs": [],
   "source": [
    "given_data=np.array([[50,70],[80,100],[60,90],[30,50],[20,50]]) # given data of Customer satisfaction levels\n",
    "rowsum=given_data.sum(axis=1)      # Sum of each satisfaction levels\n",
    "columnsum=given_data.sum(axis=0)   # Sum of Customers of Smart_Thermmostat and Smart_Light Device"
   ]
  },
  {
   "cell_type": "code",
   "execution_count": 108,
   "id": "0b91de7f-4be4-47b4-9cb9-a5e999156f63",
   "metadata": {},
   "outputs": [],
   "source": [
    "predicted=np.outer(rowsum,columnsum)/given_data.sum() # calculation of Each Satisfaction Level"
   ]
  },
  {
   "cell_type": "markdown",
   "id": "c8566aab-b13a-40dc-9dad-b7d3368edd8c",
   "metadata": {},
   "source": [
    "### Task-2 : Compute the Chi-Square Statistic"
   ]
  },
  {
   "cell_type": "code",
   "execution_count": 110,
   "id": "479ef8c5-78e2-4360-852a-1acace68af61",
   "metadata": {},
   "outputs": [
    {
     "name": "stdout",
     "output_type": "stream",
     "text": [
      "Chi-Square Statistic= 5.638227513227513\n"
     ]
    }
   ],
   "source": [
    "# Calculation of Chi-Square Statistic\n",
    "Chisquare_Stat=np.sum((given_data-predicted)**2/predicted) # Formula to find the Chi-Square Statistc\n",
    "print(\"Chi-Square Statistic=\",Chisquare_Stat)"
   ]
  },
  {
   "cell_type": "code",
   "execution_count": 111,
   "id": "04ca0b94-eef1-4afc-9ed3-34194fdb08af",
   "metadata": {},
   "outputs": [
    {
     "name": "stdout",
     "output_type": "stream",
     "text": [
      "Degrees of Freedom in Chi-Square Test= 4\n"
     ]
    }
   ],
   "source": [
    "# Degrees of Freedom in Chi-Square Test\n",
    "data=(given_data.shape[0]-1)*(given_data.shape[1]-1)    # Degree's of Freedom Formula=(number of rows-1)*(number of columns-1)\n",
    "print(\"Degrees of Freedom in Chi-Square Test=\",data)"
   ]
  },
  {
   "cell_type": "markdown",
   "id": "aaf95545-36db-4e4c-b3ef-9e772f9f0412",
   "metadata": {},
   "source": [
    "### Task-3 : Determine the Critical Value\n",
    "Using the significance level (alpha) of 0.05 and the degrees of freedom (which is the number of categories minus 1)\n",
    "\n",
    "Given,\n",
    "\n",
    "Significance Level(alpha)=0.05\n",
    "\n",
    "Degree's of Freedom=4"
   ]
  },
  {
   "cell_type": "code",
   "execution_count": 113,
   "id": "384f0cea-0a7f-4652-b768-9c991a435454",
   "metadata": {},
   "outputs": [
    {
     "name": "stdout",
     "output_type": "stream",
     "text": [
      "Critical Value for Chi-Square Test= 9.487729036781154\n"
     ]
    }
   ],
   "source": [
    "alpha=0.05 # Significance Level\n",
    "critical_value= chi2.ppf(1-alpha,df) # Determining the Critical Value for Chi-Square Test\n",
    "print(\"Critical Value for Chi-Square Test=\",critical_value)"
   ]
  },
  {
   "cell_type": "markdown",
   "id": "813b2dff-a5ae-4b92-b767-7878ca4294af",
   "metadata": {},
   "source": [
    "### Task-4 : Make a Decision\n",
    "Compare the Chi-Square statistic with the critical value to decide whether to reject the null hypothesis."
   ]
  },
  {
   "cell_type": "code",
   "execution_count": 115,
   "id": "e6f7f8ab-8294-4a7d-a2a8-38bbbad5d6d0",
   "metadata": {},
   "outputs": [
    {
     "name": "stdout",
     "output_type": "stream",
     "text": [
      "Accept Null Hypothesis.There is no Significant Association.\n"
     ]
    }
   ],
   "source": [
    "# By Comapring the Chisquare statistic with critical value.\n",
    "# Chi-Square Statistic= 5.638227513227513 is less than the Critical Value for Chi-Square Test= 9.487729036781154\n",
    "if Chisquare_Stat>critical_value:\n",
    "    print(\"Reject Null Hypothesis.There is a Significant Association.\")\n",
    "else:\n",
    "    print(\"Accept Null Hypothesis.There is no Significant Association.\")"
   ]
  },
  {
   "cell_type": "markdown",
   "id": "e1ec9189-7b25-4fd7-b74c-496b3fd34ea8",
   "metadata": {},
   "source": [
    "### Conclusion\n",
    "##### --->We can say that there is ano Significant Association between Device Type and The customer Satisfaction."
   ]
  }
 ],
 "metadata": {
  "kernelspec": {
   "display_name": "Python 3 (ipykernel)",
   "language": "python",
   "name": "python3"
  },
  "language_info": {
   "codemirror_mode": {
    "name": "ipython",
    "version": 3
   },
   "file_extension": ".py",
   "mimetype": "text/x-python",
   "name": "python",
   "nbconvert_exporter": "python",
   "pygments_lexer": "ipython3",
   "version": "3.12.4"
  }
 },
 "nbformat": 4,
 "nbformat_minor": 5
}
