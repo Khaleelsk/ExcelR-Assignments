{
 "cells": [
  {
   "cell_type": "markdown",
   "id": "89801fff-fe71-4d41-9274-e30494ab6e86",
   "metadata": {},
   "source": [
    "# Hypothesis Testing"
   ]
  },
  {
   "cell_type": "markdown",
   "id": "c4c8c399-d1ed-4020-ad67-63ca50fb6eac",
   "metadata": {},
   "source": [
    "### Background\n",
    "Bombay hospitality Ltd. operates a franchise model for producing exotic Norwegian dinners throughout New England. The operating cost for a franchise in a week (W) is given by the equation W = $1,000 + $5X, where X represents the number of units produced in a week. Recent feedback from restaurant owners suggests that this cost model may no longer be accurate, as their observed weekly operating costs are higher."
   ]
  },
  {
   "cell_type": "markdown",
   "id": "eabb8627-14af-4b3a-b331-f92f363e8f47",
   "metadata": {},
   "source": [
    "### Objective\n",
    "To investigate the restaurant owners' claim about the increase in weekly operating costs using hypothesis testing."
   ]
  },
  {
   "cell_type": "markdown",
   "id": "1ac15b3e-a515-4e13-86f3-2b183b126ad1",
   "metadata": {},
   "source": [
    "### Data Provided\n",
    "•\tThe Theoretical weekly operating cost model: W = $1,000 + $5X\n",
    "\n",
    "•\tSample of 25 restaurants with a mean weekly cost of Rs. 3,050\n",
    "\r\n",
    "•\tNumber of units produced in a week (X) follows a normal distribution with a mean (μ)      of 600 units and a standard deviation (σ) of 25 units\r\n"
   ]
  },
  {
   "cell_type": "markdown",
   "id": "f88f9343-c6df-411a-b775-a22ad9fba7a3",
   "metadata": {},
   "source": [
    "## Assignment Tasks\n",
    "### Task-1 : State the Hypothesis Statement"
   ]
  },
  {
   "cell_type": "raw",
   "id": "a85ce18f-4bf1-4e64-8f55-20be66cb2c00",
   "metadata": {},
   "source": [
    "The Null Hypothesis(H0) and Alternative Hypothesis(H1) are stated as below:\n",
    "\n",
    "H0:μ= $1000+5(600)= $4,000 (The weekly operating cost model is accurate)\n",
    "\n",
    "H1:μ > $4,000 (The weekly operating cost model underestimates the true weekly operating cost)"
   ]
  },
  {
   "cell_type": "markdown",
   "id": "0ad42878-7de0-4cdb-8c22-0b2e3bd5e7fa",
   "metadata": {},
   "source": [
    "### Task-1 : Calculate Test Statistics"
   ]
  },
  {
   "cell_type": "raw",
   "id": "efd103c8-02ee-43e6-b47f-b587e72a7a21",
   "metadata": {},
   "source": [
    "Use the following formula to calculate the test statistics (t):\n",
    "\n",
    "•\tˉxˉ = sample mean weekly cost (Rs. 3,050)\n",
    "•\tμ = theoretical mean weekly cost according to the cost model (W = $1,000 + $5X for X = 600 units)\n",
    "•\tσ = 5*25 units\n",
    "•\tn = sample size (25 restaurants)\n"
   ]
  },
  {
   "cell_type": "code",
   "execution_count": 65,
   "id": "c987cbb8-4aab-4764-bf64-5a0fdd7b118b",
   "metadata": {},
   "outputs": [],
   "source": [
    "import math\n",
    "sample_mean=3050         # Given sample mean weekly cost\n",
    "theoretical_mean=4000    # Theoretical mean weekly cost according to the cost model\n",
    "std=125                  # Given Standard Deviation std=5*25=125\n",
    "sample_size=25           # Given Sample Size 25 Restaurants"
   ]
  },
  {
   "cell_type": "code",
   "execution_count": 71,
   "id": "40111e0a-49cd-4a64-9c6e-1dc9a664985b",
   "metadata": {},
   "outputs": [],
   "source": [
    "# Calculating Test Statistic\n",
    "t=(sample_mean-theoretical_mean)/(std/math.sqrt(sample_size))"
   ]
  },
  {
   "cell_type": "code",
   "execution_count": 77,
   "id": "ce604d68-5048-4fa8-943a-4e5086c3231c",
   "metadata": {},
   "outputs": [
    {
     "name": "stdout",
     "output_type": "stream",
     "text": [
      "Test Statistic(t) = -38.0\n"
     ]
    }
   ],
   "source": [
    "print(\"Test Statistic(t) =\",t)"
   ]
  },
  {
   "cell_type": "markdown",
   "id": "143bbbf7-0457-4190-a446-a371e32f1b45",
   "metadata": {},
   "source": [
    "### Task-3 : Determine the Critical Value\n",
    "By using the Alpha Level of 5%(α=0.05),\n",
    "We can determine the Critical Value from the Standard Normal(z) Distribution Table.\n",
    "zcritical=1.645"
   ]
  },
  {
   "cell_type": "code",
   "execution_count": 88,
   "id": "4440a177-469b-4bf7-87b3-3911304b0d7d",
   "metadata": {},
   "outputs": [
    {
     "name": "stdout",
     "output_type": "stream",
     "text": [
      "Critical Value= 1.645\n"
     ]
    }
   ],
   "source": [
    "critical_value=1.645   # Critical Value for Alpha level of 5%\n",
    "print(\"Critical Value=\",critical_value)"
   ]
  },
  {
   "cell_type": "markdown",
   "id": "b4476e31-fa9a-471a-883f-df1edcfa5c5d",
   "metadata": {},
   "source": [
    "### Task-4 : Make a Decision\n",
    "Compare the test statistic with the critical value to decide whether to reject the null hypothesis."
   ]
  },
  {
   "cell_type": "code",
   "execution_count": 99,
   "id": "57f3e406-3a58-4d48-a8dd-b9a12ad28e23",
   "metadata": {},
   "outputs": [
    {
     "name": "stdout",
     "output_type": "stream",
     "text": [
      "Reject null hypothesis.\n",
      "There is strong evidence to support the restaurant owners' claim.\n"
     ]
    }
   ],
   "source": [
    "# By Comparing the test statistic with Critical value,we get.\n",
    "# Comparing the test statistic with the critical value, we get:\n",
    "# t=-38<-1.645 (Z_critical).\n",
    "# The Test Statistic is Less than the Critical value.\n",
    "# so,We reject the null hypothesis(H0).\n",
    "if t<critical_value:\n",
    "    print(\"Reject null hypothesis.\")\n",
    "    print(\"There is strong evidence to support the restaurant owners' claim.\")\n",
    "else:\n",
    "    print(\"Accept null hypothesis.\")\n",
    "    print(\"There is no strong evidence to support the restaurant owners' claim.\")"
   ]
  },
  {
   "cell_type": "markdown",
   "id": "51c2e024-4e19-486b-82c1-8993549b5d2f",
   "metadata": {},
   "source": [
    "### Task-5 : Conclusion"
   ]
  },
  {
   "cell_type": "markdown",
   "id": "12a9aff5-5338-46e0-8a1c-9f3954dfc16b",
   "metadata": {},
   "source": [
    "##### From the Above decision,\n",
    "##### ---> we can say that there is strong evidence to support the restaurant owners'     claim that the weekly operating costs are higher than the model suggests.\n",
    "\n",
    "##### --->The sample mean weekly cost of Rs. 3,050 is greater than the theoretical mean weekly cost of $4,000,which indicates that the cost model underestimates the true weekly operating cost."
   ]
  }
 ],
 "metadata": {
  "kernelspec": {
   "display_name": "Python 3 (ipykernel)",
   "language": "python",
   "name": "python3"
  },
  "language_info": {
   "codemirror_mode": {
    "name": "ipython",
    "version": 3
   },
   "file_extension": ".py",
   "mimetype": "text/x-python",
   "name": "python",
   "nbconvert_exporter": "python",
   "pygments_lexer": "ipython3",
   "version": "3.12.4"
  }
 },
 "nbformat": 4,
 "nbformat_minor": 5
}
