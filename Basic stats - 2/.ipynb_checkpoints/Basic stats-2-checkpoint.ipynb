{
 "cells": [
  {
   "cell_type": "markdown",
   "id": "32e96802-fd53-4f77-96c3-8b4f491ceccb",
   "metadata": {},
   "source": [
    "# Importing Required libraries"
   ]
  },
  {
   "cell_type": "code",
   "execution_count": 147,
   "id": "1155cccf-2334-4217-b5bb-7c44ef639f8f",
   "metadata": {},
   "outputs": [],
   "source": [
    "import numpy as np # Numpy Librabry.\n",
    "from scipy.stats import t,norm # Student's t-distribution and normal distribution from scipy."
   ]
  },
  {
   "cell_type": "markdown",
   "id": "08f4a822-d0b2-4aef-a715-615403184b98",
   "metadata": {},
   "source": [
    "# Given Data"
   ]
  },
  {
   "cell_type": "code",
   "execution_count": 149,
   "id": "e081b1e5-e28c-4811-b2e0-65056dc3c8ac",
   "metadata": {},
   "outputs": [
    {
     "data": {
      "text/plain": [
       "[1.13,\n",
       " 1.55,\n",
       " 1.43,\n",
       " 0.92,\n",
       " 1.25,\n",
       " 1.36,\n",
       " 1.32,\n",
       " 0.85,\n",
       " 1.07,\n",
       " 1.48,\n",
       " 1.2,\n",
       " 1.33,\n",
       " 1.18,\n",
       " 1.22,\n",
       " 1.29]"
      ]
     },
     "execution_count": 149,
     "metadata": {},
     "output_type": "execute_result"
    }
   ],
   "source": [
    "data = [1.13,1.55,1.43,0.92,1.25,1.36,1.32,0.85,1.07,1.48,1.20,1.33,1.18,1.22,1.29]\n",
    "data"
   ]
  },
  {
   "cell_type": "markdown",
   "id": "52f35461-e4b7-4a59-ad9a-f9f2ca619ed1",
   "metadata": {},
   "source": [
    "# Task-A\n",
    "## a. Build 99% Confidence Interval Using Sample Standard Deviation\r\n",
    "Assuming the sample is representative of the population, construct a 99% confidence interval for the mean number of characters printed before the print-head fails using the sample standard deviation. Explain the steps you take and the rationale behind using the t-distribution for this task.\r\n"
   ]
  },
  {
   "cell_type": "code",
   "execution_count": 151,
   "id": "053576fd-0f52-42d1-be06-2e482ceace40",
   "metadata": {},
   "outputs": [
    {
     "data": {
      "text/plain": [
       "15"
      ]
     },
     "execution_count": 151,
     "metadata": {},
     "output_type": "execute_result"
    }
   ],
   "source": [
    "n=len(data) # Length of Data\n",
    "df=n-1 # DataFrame Length.\n",
    "n"
   ]
  },
  {
   "cell_type": "code",
   "execution_count": 152,
   "id": "efe5e3aa-d7e0-40a6-b491-e0a3328b14a6",
   "metadata": {},
   "outputs": [
    {
     "data": {
      "text/plain": [
       "1.2386666666666666"
      ]
     },
     "execution_count": 152,
     "metadata": {},
     "output_type": "execute_result"
    }
   ],
   "source": [
    "s_mean=np.mean(data) # Mean of Data\n",
    "s_mean"
   ]
  },
  {
   "cell_type": "code",
   "execution_count": 153,
   "id": "5fe4e7e5-d3c9-4285-99e8-72e298634f3f",
   "metadata": {},
   "outputs": [
    {
     "data": {
      "text/plain": [
       "0.18661427836285438"
      ]
     },
     "execution_count": 153,
     "metadata": {},
     "output_type": "execute_result"
    }
   ],
   "source": [
    "s_std=np.std(data) # Standard Deviation of Data\n",
    "s_std"
   ]
  },
  {
   "cell_type": "markdown",
   "id": "49b0d949-49c5-4f32-bad9-10e342649da3",
   "metadata": {},
   "source": [
    "### Required Confidence level is 99%."
   ]
  },
  {
   "cell_type": "code",
   "execution_count": 155,
   "id": "21bfa631-4cf3-474e-9b14-6d896b724592",
   "metadata": {},
   "outputs": [],
   "source": [
    "value_of_t = t.ppf(0.995,df)  # Given confidence level is 99%."
   ]
  },
  {
   "cell_type": "markdown",
   "id": "61ad7841-6379-42c3-b36b-42c2efe5fe88",
   "metadata": {},
   "source": [
    "### Constructing a 99% confidence interval for the mean number of characters using the sample standard deviation."
   ]
  },
  {
   "cell_type": "code",
   "execution_count": 157,
   "id": "82e116f5-e919-490c-a3b0-aaa9c8a91776",
   "metadata": {},
   "outputs": [],
   "source": [
    "margin_of_error_t=value_of_t*(sample_std/np.sqrt(n)) # Margin of Error_t Equation."
   ]
  },
  {
   "cell_type": "markdown",
   "id": "9fc1ab10-860d-40f8-92e8-a01bb3f44e26",
   "metadata": {},
   "source": [
    "### Lower and Upper Limits of Confidence Interval."
   ]
  },
  {
   "cell_type": "code",
   "execution_count": 159,
   "id": "f0b10d8f-abcb-47d9-b74a-fcc9a94c3c02",
   "metadata": {},
   "outputs": [],
   "source": [
    "lower1=s_mean-margin_of_error_t\n",
    "upper1=s_mean+margin_of_error_t"
   ]
  },
  {
   "cell_type": "code",
   "execution_count": 160,
   "id": "a097142f-469d-43d7-9b27-b05b34dd65bf",
   "metadata": {},
   "outputs": [
    {
     "name": "stdout",
     "output_type": "stream",
     "text": [
      "Lower limit : 1.095231668626123 Upper limit : 1.3821016647072102\n"
     ]
    }
   ],
   "source": [
    "print(\"Lower limit :\",lower1,\"Upper limit :\",upper1)"
   ]
  },
  {
   "cell_type": "markdown",
   "id": "65c905f3-0744-4969-a155-38fdb563b936",
   "metadata": {},
   "source": [
    "# Task-B\n",
    "### b. Build 99% Confidence Interval Using Known Population Standard Deviation\r\n",
    "If it were known that the population standard deviation is 0.2 million characters, construct a 99% confidence interval for the mean number of characters printed before failure.\r\n"
   ]
  },
  {
   "cell_type": "code",
   "execution_count": 162,
   "id": "406e3442-bfae-4d63-9a72-3b51e3da5fef",
   "metadata": {},
   "outputs": [],
   "source": [
    "given_std=0.2 # Given Population Standard Deviation."
   ]
  },
  {
   "cell_type": "markdown",
   "id": "87a20b9d-b17b-4c7d-82dd-ccf19bf957e2",
   "metadata": {},
   "source": [
    "### z-value is a statistical term used to measure how many standard deviations a data point is from the mean of a population or sample. It's a common metric used in hypothesis testing and statistical inference."
   ]
  },
  {
   "cell_type": "code",
   "execution_count": 164,
   "id": "21d9eaf7-71b0-49b4-ac01-dc96223f2e89",
   "metadata": {},
   "outputs": [],
   "source": [
    "zvalue=norm.ppf(0.995) # Given confidence level is 99%."
   ]
  },
  {
   "cell_type": "markdown",
   "id": "d5b26b48-3b8f-4e86-99cb-904a21d1a6ef",
   "metadata": {},
   "source": [
    "### Constructing a 99% confidence interval for the mean number of characters using Using Known Population Standard Deviation."
   ]
  },
  {
   "cell_type": "code",
   "execution_count": 166,
   "id": "58b08b6d-f118-4af5-b79a-968614ef723d",
   "metadata": {},
   "outputs": [],
   "source": [
    "margin_of_error_z=zvalue*(given_std/np.sqrt(n)) # Margin of Error_z Equation."
   ]
  },
  {
   "cell_type": "markdown",
   "id": "53394406-e538-454a-aae1-6f7645b3ab7f",
   "metadata": {},
   "source": [
    "### Lower and Upper Limits of Confidence Interval."
   ]
  },
  {
   "cell_type": "code",
   "execution_count": 168,
   "id": "4cf0dbcc-bdf6-4abc-b8ab-efa440d526f6",
   "metadata": {},
   "outputs": [],
   "source": [
    "lower2=s_mean-margin_of_error_z\n",
    "upper2=s_mean+margin_of_error_z"
   ]
  },
  {
   "cell_type": "code",
   "execution_count": 169,
   "id": "6102f9e4-31dd-4ae7-923b-7b076c1b14ce",
   "metadata": {},
   "outputs": [
    {
     "name": "stdout",
     "output_type": "stream",
     "text": [
      "Lower limit : 1.1056514133957607 Upper limit : 1.3716819199375725\n"
     ]
    }
   ],
   "source": [
    "print(\"Lower limit :\",lower2,\"Upper limit :\",upper2)"
   ]
  }
 ],
 "metadata": {
  "kernelspec": {
   "display_name": "Python 3 (ipykernel)",
   "language": "python",
   "name": "python3"
  },
  "language_info": {
   "codemirror_mode": {
    "name": "ipython",
    "version": 3
   },
   "file_extension": ".py",
   "mimetype": "text/x-python",
   "name": "python",
   "nbconvert_exporter": "python",
   "pygments_lexer": "ipython3",
   "version": "3.12.4"
  }
 },
 "nbformat": 4,
 "nbformat_minor": 5
}
